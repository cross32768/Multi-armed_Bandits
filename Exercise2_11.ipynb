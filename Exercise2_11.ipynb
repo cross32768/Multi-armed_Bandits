{
 "cells": [
  {
   "cell_type": "markdown",
   "metadata": {},
   "source": [
    "## Exercise 2.11\n",
    "(programming) Make a figure analogous to Figure 2.6 for the nonstationary case outlined in Exercise 2.5 . Include the constant-step-size ε-greedy algorithm with α = 0.1. Use runs of 200,000 steps and, as a performance measure for each algorithm and parameter setting, use the average reward over the last 100,000 steps."
   ]
  },
  {
   "cell_type": "code",
   "execution_count": 1,
   "metadata": {},
   "outputs": [],
   "source": [
    "import numpy as np\n",
    "import matplotlib.pyplot as plt\n",
    "\n",
    "from experiment import Experiment"
   ]
  },
  {
   "cell_type": "code",
   "execution_count": 2,
   "metadata": {},
   "outputs": [
    {
     "name": "stderr",
     "output_type": "stream",
     "text": [
      "100%|██████████| 50/50 [00:55<00:00,  1.10s/it]\n",
      "100%|██████████| 50/50 [00:54<00:00,  1.10s/it]\n",
      "100%|██████████| 50/50 [00:56<00:00,  1.12s/it]\n",
      "100%|██████████| 50/50 [00:54<00:00,  1.09s/it]\n",
      "100%|██████████| 50/50 [00:50<00:00,  1.02s/it]\n",
      "100%|██████████| 50/50 [00:54<00:00,  1.10s/it]\n",
      "100%|██████████| 50/50 [01:36<00:00,  1.93s/it]\n",
      "100%|██████████| 50/50 [01:37<00:00,  1.95s/it]\n",
      "100%|██████████| 50/50 [01:30<00:00,  1.82s/it]\n",
      "100%|██████████| 50/50 [01:26<00:00,  1.73s/it]\n",
      "100%|██████████| 50/50 [01:27<00:00,  1.75s/it]\n",
      "100%|██████████| 50/50 [01:25<00:00,  1.70s/it]\n",
      "100%|██████████| 50/50 [01:25<00:00,  1.70s/it]\n",
      "100%|██████████| 50/50 [01:26<00:00,  1.73s/it]\n",
      "100%|██████████| 50/50 [01:02<00:00,  1.24s/it]\n",
      "100%|██████████| 50/50 [00:56<00:00,  1.13s/it]\n",
      "100%|██████████| 50/50 [00:59<00:00,  1.19s/it]\n",
      "100%|██████████| 50/50 [01:03<00:00,  1.26s/it]\n",
      "100%|██████████| 50/50 [01:00<00:00,  1.21s/it]\n",
      "100%|██████████| 50/50 [00:59<00:00,  1.20s/it]\n",
      "100%|██████████| 50/50 [00:57<00:00,  1.14s/it]\n",
      "100%|██████████| 50/50 [00:48<00:00,  1.04it/s]\n",
      "100%|██████████| 50/50 [00:49<00:00,  1.02it/s]\n",
      "100%|██████████| 50/50 [00:48<00:00,  1.03it/s]\n",
      "100%|██████████| 50/50 [00:54<00:00,  1.10s/it]\n",
      "100%|██████████| 50/50 [00:49<00:00,  1.01it/s]\n"
     ]
    },
    {
     "data": {
      "image/png": "[encoded data removed]",
      "text/plain": [
       "<Figure size 432x288 with 1 Axes>"
      ]
     },
     "metadata": {
      "needs_background": "light"
     },
     "output_type": "display_data"
    }
   ],
   "source": [
    "fig, ax = plt.subplots()\n",
    "\n",
    "exp = Experiment()\n",
    "\n",
    "\n",
    "exp.set_config('problem_name', 'nonstationary')\n",
    "exp.set_config('n_steps', 20000)\n",
    "\n",
    "exp.set_config('solver_name', 'epsilon-greedy')\n",
    "epsilon = [1/128, 1/64, 1/32, 1/16, 1/8, 1/4]\n",
    "average_reward_over_last_10000_steps = []\n",
    "\n",
    "for e in epsilon:\n",
    "    exp.set_config('epsilon', e)\n",
    "    average_reward, _ = exp.run('experiment')\n",
    "    average_reward_over_last_10000_steps.append(np.mean(average_reward[10000:]))\n",
    "plt.plot(epsilon, average_reward_over_last_10000_steps, label='ϵ-greedy', c='red')\n",
    "exp.reset_config()\n",
    "\n",
    "\n",
    "exp.set_config('problem_name', 'nonstationary')\n",
    "exp.set_config('n_steps', 20000)\n",
    "\n",
    "exp.set_config('solver_name', 'policygradient')\n",
    "alpha = [1/32, 1/16, 1/8, 1/4, 1/2, 1, 2, 4]\n",
    "average_reward_over_last_10000_steps = []\n",
    "\n",
    "for a in alpha:\n",
    "    exp.set_config('step_size', a)\n",
    "    average_reward, _ = exp.run('experiment')\n",
    "    average_reward_over_last_10000_steps.append(np.mean(average_reward[10000:]))\n",
    "plt.plot(alpha, average_reward_over_last_10000_steps, label='gradient bandit', c='green')\n",
    "exp.reset_config()\n",
    "\n",
    "\n",
    "exp.set_config('problem_name', 'nonstationary')\n",
    "exp.set_config('n_steps', 20000)\n",
    "\n",
    "exp.set_config('solver_name', 'UCB1')\n",
    "conf_coeff = [1/16, 1/8, 1/4, 1/2, 1, 2, 4]\n",
    "average_reward_over_last_10000_steps = []\n",
    "\n",
    "for c in conf_coeff:\n",
    "    exp.set_config('conf_coeff', c)\n",
    "    average_reward, _ = exp.run('experiment')\n",
    "    average_reward_over_last_10000_steps.append(np.mean(average_reward[10000:]))\n",
    "plt.plot(conf_coeff, average_reward_over_last_10000_steps, label='UCB', c='blue')\n",
    "exp.reset_config()\n",
    "\n",
    "\n",
    "exp.set_config('problem_name', 'nonstationary')\n",
    "exp.set_config('n_steps', 20000)\n",
    "\n",
    "exp.set_config('solver_name', 'epsilon-greedy')\n",
    "exp.set_config('epsilon', 0)\n",
    "Q_0 = [1/4, 1/2, 1, 2, 4]\n",
    "average_reward_over_last_10000_steps = []\n",
    "\n",
    "for q0 in Q_0:\n",
    "    exp.set_config('initial_value', q0)\n",
    "    average_reward, _ = exp.run('experiment')\n",
    "    average_reward_over_last_10000_steps.append(np.mean(average_reward[10000:]))\n",
    "plt.plot(Q_0, average_reward_over_last_10000_steps, label='greedy with optimistic initialization α=0.1', c='black')\n",
    "exp.reset_config()\n",
    "\n",
    "\n",
    "plt.legend()\n",
    "plt.xlabel('ϵ α c Q_0')\n",
    "plt.ylabel('Average reward over last 10000 steps')\n",
    "ax.set_xscale('log', basex=2)\n",
    "plt.show()"
   ]
  },
  {
   "cell_type": "code",
   "execution_count": null,
   "metadata": {},
   "outputs": [],
   "source": []
  }
 ],
 "metadata": {
  "kernelspec": {
   "display_name": "Python 3",
   "language": "python",
   "name": "python3"
  },
  "language_info": {
   "codemirror_mode": {
    "name": "ipython",
    "version": 3
   },
   "file_extension": ".py",
   "mimetype": "text/x-python",
   "name": "python",
   "nbconvert_exporter": "python",
   "pygments_lexer": "ipython3",
   "version": "3.7.5"
  }
 },
 "nbformat": 4,
 "nbformat_minor": 2
}
